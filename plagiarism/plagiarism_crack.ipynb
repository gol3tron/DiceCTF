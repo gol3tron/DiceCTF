{
 "cells": [
  {
   "cell_type": "code",
   "execution_count": 6,
   "metadata": {},
   "outputs": [],
   "source": [
    "from sympy import *\n",
    "from Crypto.PublicKey import RSA\n",
    "import binascii, codecs"
   ]
  },
  {
   "cell_type": "code",
   "execution_count": null,
   "metadata": {},
   "outputs": [],
   "source": [
    "x,y,z,t = symbols('x y z t')"
   ]
  },
  {
   "cell_type": "code",
   "execution_count": 39,
   "metadata": {},
   "outputs": [],
   "source": [
    "N = 25898966400928827905718377946331123070958718286581765316565582158865227877882475404853218079499084099440419144196215764927720893687968939899067275095801562867742359933997487928281899714724738097735994026225339488710478292473051567851786254924548138570069406420407124627567648479424564834446192417334669768477661434992797176428220265984651288944265998446714590797833756720922745187467388408600309665467669255896919554072379878017822219455974525233467767926938557154083882126002952139561283708342676308894318951822068027821029295524097544028901807902120777407151278396388621981625398417573347316888458337381776303199529"
   ]
  },
  {
   "cell_type": "code",
   "execution_count": 38,
   "metadata": {},
   "outputs": [],
   "source": [
    "e = 1048577"
   ]
  },
  {
   "cell_type": "code",
   "execution_count": 36,
   "metadata": {},
   "outputs": [],
   "source": [
    "c0 = 11140520553087800834883326476247582685177207584737264356946559762068509060522907835540767944557089926814767920501376431871780404000550271362410228709616559148950928004959648199391157781102695421411667843970881959939688515679415870087007797819271601359811630724878746762862603629420061133824605384527474682526549557804674160851967543475275374840169790764048711047622418045734436512050742433282306694490346907876574514077395835974083376649624559301087384766644865104383786285302561584731767419571603248493060257358632833957327996996960955767927114473513709882904104552609194519132931270741118197821776138632855021619178"
   ]
  },
  {
   "cell_type": "code",
   "execution_count": 35,
   "metadata": {},
   "outputs": [],
   "source": [
    "c1 = 2922817623733019475805146570530296261205732600738503605503192845278422660686627490817081424885152809772315629265930072636690234953045955503581182067349322827011065359648958225896393305011175960879100475146203207801533980643261035226402857047007061320653920746872424363923515091038846823007819033456503365649022294092944985887626605207259444051959239244136999684366533551627508385114998024232490369665950339127904350803268889205463047713233591604324960184727360413931125906144631968128488876241314939855024305076160092193380013725939761970042406866169417457376487954247442308318888399299295082898238584625937490546472"
   ]
  },
  {
   "cell_type": "code",
   "execution_count": 19,
   "metadata": {},
   "outputs": [
    {
     "name": "stdout",
     "output_type": "stream",
     "text": [
      "b'God'\n",
      "b' do'\n",
      "b'es '\n",
      "b'not'\n",
      "b' pl'\n",
      "b'ay '\n",
      "b'dic'\n",
      "b'e w'\n",
      "b'ith'\n",
      "b' th'\n",
      "b'e u'\n",
      "b'niv'\n",
      "b'ers'\n",
      "b'e. '\n",
      "b'Alb'\n",
      "b'ert'\n",
      "b' Ei'\n",
      "b'nst'\n",
      "b'ein'\n",
      "\n"
     ]
    }
   ],
   "source": [
    "c = '41A387CABD1C144C99E4B44CE2812A7696CE8A9B5941164741E91B82D'\\\n",
    "    '89886700DD73A61C580BD75DFC0351D3D6BBF644408A77CB421A115C5'\n",
    "n = 16395979\n",
    "d = 10118449\n",
    "\n",
    "# n.bit_length() is 24, so let's process c 3 bytes at a time...\n",
    "plaintext = ''\n",
    "for i in range(0, len(c), 6):\n",
    "    # Grab 6 digits from c and convert to an integer:\n",
    "    x = int(c[i:i+6], 16)\n",
    "    # Decrypt this chunk:\n",
    "    y = pow(x, d, n)\n",
    "    # Convert to ASCII and add to output:\n",
    "    #plaintext += hex(y)[2:].zfill(6).decode('hex')\n",
    "    print(codecs.decode(hex(y)[2:].zfill(6),'hex'))\n",
    "\n",
    "print(plaintext)"
   ]
  },
  {
   "cell_type": "code",
   "execution_count": 20,
   "metadata": {},
   "outputs": [
    {
     "name": "stdout",
     "output_type": "stream",
     "text": [
      "b'-----BEGIN PUBLIC KEY-----\\nMIIBIjANBgkqhkiG9w0BAQEFAAOCAQ8AMIIBCgKCAQEAyCFOlYBkXmRwPbmW3x7o\\nZa8bNAvRr/ZO3Sj59goA50IsNn6gS3WWoJwJGc6DzbRPtZNfjsYhLCbaKukLiZhq\\nRTPo+QAe/U4VH5CQxOAxR+wH60E/ywv+DrjljbBTbd/77AdivjygP/i5y0XXbZea\\npBtQ56fgCOdHLqPJfScWSvP6kDkIcIKHCaFNwRm0ml24L3UwDwFJyZOiac/uwrSi\\nZLx8wVi+kODAix2R6KPEWMglwJWfI/tJJwN5EqEGJCQp+e00oO2/Fqmy/g/9LZCj\\nW5Xx7hC5gixrpt3yESSz0/x6kNeakJDo887aKQ3gAtL3wE7U5aFsiRQ6cnrMy4ym\\n5QIDAQAB\\n-----END PUBLIC KEY-----'\n"
     ]
    }
   ],
   "source": [
    "secret_code = \"Unguessable\"\n",
    "key = RSA.generate(2048)\n",
    "encrypted_key = key.export_key(passphrase=secret_code, pkcs=8, protection=\"scryptAndAES128-CBC\")\n",
    "\n",
    "print(key.publickey().export_key())"
   ]
  },
  {
   "cell_type": "code",
   "execution_count": 31,
   "metadata": {},
   "outputs": [],
   "source": [
    "delta = int(binascii.hexlify(b'Blex'), 16) - int(binascii.hexlify(b'Kane'), 16)"
   ]
  },
  {
   "cell_type": "code",
   "execution_count": 32,
   "metadata": {},
   "outputs": [
    {
     "data": {
      "text/plain": [
       "-150276333"
      ]
     },
     "execution_count": 32,
     "metadata": {},
     "output_type": "execute_result"
    }
   ],
   "source": [
    "delta"
   ]
  },
  {
   "cell_type": "code",
   "execution_count": 24,
   "metadata": {},
   "outputs": [
    {
     "data": {
      "text/plain": [
       "25264085271625015710434094288376030492111282344901246666712881958807198611850428571642712208590087105551108650639953800161403294319056303797919296660047628198623886128544490435979650963726891178808954019541266042063315118556106250571370602552599778085419942252870529829356247541185167063240853575580747278277703177966264499894995362797404483316806368289742281996991913180308493565258415528536354811000564233827107845263158097201245746186375068064962549606806751433105379410409892504377003374657595961684289034181101221655685098471278565907760757717105824261355907587205059956987304674889644506177453146873736333141733"
      ]
     },
     "execution_count": 24,
     "metadata": {},
     "output_type": "execute_result"
    }
   ],
   "source": [
    "key.n"
   ]
  },
  {
   "cell_type": "code",
   "execution_count": 25,
   "metadata": {},
   "outputs": [],
   "source": [
    "\n",
    "# Python3 program to find GCD of  \n",
    "# two numbers such that the second \n",
    "# number can be very large. \n",
    "  \n",
    "  \n",
    "# Function to find gcd \n",
    "# of two integer numbers \n",
    "def gcd(a, b) : \n",
    "      \n",
    "    if (a == 0) : \n",
    "        return b \n",
    "          \n",
    "    return gcd(b % a, a) \n",
    "  \n",
    "# Here 'a' is integer and 'b' is string. \n",
    "# The idea is to make the second number \n",
    "# (represented as b) less than and equal \n",
    "# to first number by calculating its mod \n",
    "# with first integer number using basic \n",
    "# mathematics \n",
    "def reduceB(a, b) : \n",
    "      \n",
    "    # Initialize result \n",
    "    mod = 0\n",
    "  \n",
    "    # Calculating mod of b with a  \n",
    "    # to make b like 0 <= b < a \n",
    "    for i in range(0, len(b)) : \n",
    "          \n",
    "        mod = (mod * 10 + ord(b[i])) % a \n",
    "  \n",
    "    return mod      # return modulo \n",
    "  \n",
    "  \n",
    "# This function returns GCD of \n",
    "# 'a' and 'b' where b can be \n",
    "# very large and is represented \n",
    "# as a character array or string \n",
    "def gcdLarge(a, b) : \n",
    "      \n",
    "    # Reduce 'b' (second number) \n",
    "    # after modulo with a \n",
    "    num = reduceB(a, b) \n",
    "  \n",
    "    # gcd of two numbers \n",
    "    return gcd(a, num) "
   ]
  },
  {
   "cell_type": "code",
   "execution_count": 40,
   "metadata": {},
   "outputs": [
    {
     "name": "stdout",
     "output_type": "stream",
     "text": [
      "-1\n"
     ]
    }
   ],
   "source": [
    "# Driver program \n",
    "  \n",
    "# First number which is integer \n",
    "#a = 1221\n",
    "a = delta ** e - c1\n",
    "  \n",
    "# Second number is represented \n",
    "# as string because it can not \n",
    "# be handled by integer data type \n",
    "#b = \"1234567891011121314151617181920212223242526272829\"\n",
    "b = str(c0)\n",
    "\n",
    "if a == 0: \n",
    "    print(b) \n",
    "else: \n",
    "    print(gcdLarge(a, b)) \n",
    "  \n",
    "  \n",
    "# This code is contributed by Nikita Tiwari. \n"
   ]
  },
  {
   "cell_type": "code",
   "execution_count": 33,
   "metadata": {},
   "outputs": [
    {
     "data": {
      "text/plain": [
       "'-150276333'"
      ]
     },
     "execution_count": 33,
     "metadata": {},
     "output_type": "execute_result"
    }
   ],
   "source": [
    "str(delta)"
   ]
  },
  {
   "cell_type": "code",
   "execution_count": null,
   "metadata": {},
   "outputs": [],
   "source": []
  }
 ],
 "metadata": {
  "kernelspec": {
   "display_name": "Python 3",
   "language": "python",
   "name": "python3"
  },
  "language_info": {
   "codemirror_mode": {
    "name": "ipython",
    "version": 3
   },
   "file_extension": ".py",
   "mimetype": "text/x-python",
   "name": "python",
   "nbconvert_exporter": "python",
   "pygments_lexer": "ipython3",
   "version": "3.9.1"
  }
 },
 "nbformat": 4,
 "nbformat_minor": 4
}
