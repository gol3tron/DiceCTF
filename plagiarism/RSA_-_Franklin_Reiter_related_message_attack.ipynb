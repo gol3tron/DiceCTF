{
 "cells": [
  {
   "cell_type": "markdown",
   "metadata": {},
   "source": [
    "## GCD algorithm"
   ]
  },
  {
   "cell_type": "code",
   "execution_count": 1,
   "metadata": {},
   "outputs": [],
   "source": [
    "\"\"\"\n",
    "gcd which works over arbitrary rings\n",
    "\"\"\"\n",
    "def my_gcd(a, b): \n",
    "    while b != 0:\n",
    "        q,r = a.quo_rem(b)\n",
    "        \n",
    "        a,b = b,r\n",
    "        \n",
    "    return a"
   ]
  },
  {
   "cell_type": "code",
   "execution_count": 2,
   "metadata": {},
   "outputs": [],
   "source": [
    "def franklin_reiter(p1, p2):\n",
    "    g = my_gcd(p1, p2)\n",
    "    a0, a1 = g.coefficients()\n",
    "    return Integer(-a0/a1)"
   ]
  },
  {
   "cell_type": "code",
   "execution_count": null,
   "metadata": {},
   "outputs": [],
   "source": []
  },
  {
   "cell_type": "markdown",
   "metadata": {},
   "source": [
    "## Half GCD"
   ]
  },
  {
   "cell_type": "code",
   "execution_count": 3,
   "metadata": {},
   "outputs": [],
   "source": [
    "def HGCD(p1, p2):\n",
    "    deg1 = p1.degree()\n",
    "    deg2 = p2.degree()\n",
    "    \n",
    "    m = deg1 // 2\n",
    "    \n",
    "    if deg2 <= deg1 / 2:\n",
    "        return Matrix(R, [[1,0],[0,1]])\n",
    "\n",
    "    \n",
    "\n",
    "    p1_coeffs = p1.coefficients()\n",
    "    b1 = R(p1_coeffs[m:])\n",
    "    c1 = R(p1_coeffs[:m])\n",
    "\n",
    "    p2_coeffs = p2.coefficients()\n",
    "    b2 = R(p2_coeffs[m:])\n",
    "    c2 = R(p2_coeffs[:m])\n",
    "\n",
    "    M = HGCD(b1, b2)\n",
    "\n",
    "    v = M * vector([p1, p2])\n",
    "    d,e = v\n",
    "\n",
    "    q,r = d.quo_rem(e)\n",
    "    f = r\n",
    "    U = Matrix(R, [[0,1], [1, -q]])\n",
    "\n",
    "    m = m // 2\n",
    "\n",
    "    e_coeffs = e.coefficients()\n",
    "    g1 = R(e_coeffs[m:])\n",
    "    h1 = R(e_coeffs[:m])\n",
    "\n",
    "    f_coeffs = f.coefficients()\n",
    "    g2 = R(f_coeffs[m:])\n",
    "    h2 = R(f_coeffs[:m])\n",
    "\n",
    "\n",
    "    S = HGCD(g1, g2)\n",
    "\n",
    "    Result = S * U * M\n",
    "    return Result\n",
    "\n",
    "\n",
    "def GCD(p1, p2):\n",
    "    q,r = p1.quo_rem(p2)\n",
    "    if r == 0:\n",
    "        return p2\n",
    "    p1,p2 = p2, r\n",
    "    \n",
    "    M = HGCD(p1, p2)\n",
    "    \n",
    "    v = M * vector([p1, p2])\n",
    "    b1, b2 = v\n",
    "    \n",
    "    q,r = b1.quo_rem(b2)\n",
    "    \n",
    "    if r == 0:\n",
    "        return b2\n",
    "    \n",
    "    return GCD(b2, r)"
   ]
  },
  {
   "cell_type": "code",
   "execution_count": 4,
   "metadata": {},
   "outputs": [],
   "source": [
    "def franklin_reiter2(p1, p2):\n",
    "    g = GCD(p1, p2)\n",
    "    a0, a1 = g.coefficients()\n",
    "    return Integer(-a0/a1)"
   ]
  },
  {
   "cell_type": "code",
   "execution_count": null,
   "metadata": {},
   "outputs": [],
   "source": []
  },
  {
   "cell_type": "markdown",
   "metadata": {},
   "source": [
    "## Generate parameters"
   ]
  },
  {
   "cell_type": "code",
   "execution_count": 5,
   "metadata": {},
   "outputs": [
    {
     "ename": "NameError",
     "evalue": "name 'primes_first_n' is not defined",
     "output_type": "error",
     "traceback": [
      "\u001b[0;31m---------------------------------------------------------------------------\u001b[0m",
      "\u001b[0;31mNameError\u001b[0m                                 Traceback (most recent call last)",
      "\u001b[0;32m<ipython-input-5-e58001ef7327>\u001b[0m in \u001b[0;36m<module>\u001b[0;34m\u001b[0m\n\u001b[0;32m----> 1\u001b[0;31m \u001b[0msmall_primes\u001b[0m \u001b[0;34m=\u001b[0m \u001b[0mprimes_first_n\u001b[0m\u001b[0;34m(\u001b[0m\u001b[0;36m30000\u001b[0m\u001b[0;34m)\u001b[0m\u001b[0;34m\u001b[0m\u001b[0;34m\u001b[0m\u001b[0m\n\u001b[0m\u001b[1;32m      2\u001b[0m \u001b[0msmall_primes\u001b[0m \u001b[0;34m=\u001b[0m \u001b[0mprod\u001b[0m\u001b[0;34m(\u001b[0m\u001b[0msmall_primes\u001b[0m\u001b[0;34m)\u001b[0m\u001b[0;34m\u001b[0m\u001b[0;34m\u001b[0m\u001b[0m\n",
      "\u001b[0;31mNameError\u001b[0m: name 'primes_first_n' is not defined"
     ]
    }
   ],
   "source": [
    "small_primes = primes_first_n(30000)\n",
    "small_primes = prod(small_primes)"
   ]
  },
  {
   "cell_type": "code",
   "execution_count": 202,
   "metadata": {},
   "outputs": [],
   "source": [
    "def rdp(nbits=512):\n",
    "    while True:\n",
    "        p = random_prime(2^nbits-1, false, 2^(nbits-1))\n",
    "        if gcd((p-1)//2, small_primes) == 1:\n",
    "            return p"
   ]
  },
  {
   "cell_type": "code",
   "execution_count": 203,
   "metadata": {},
   "outputs": [],
   "source": [
    "nbits = 1024\n",
    "\n",
    "p = rdp(nbits)\n",
    "q = rdp(nbits)\n",
    "\n",
    "N = p * q"
   ]
  },
  {
   "cell_type": "code",
   "execution_count": 204,
   "metadata": {},
   "outputs": [
    {
     "name": "stdout",
     "output_type": "stream",
     "text": [
      "2097153\n",
      "20007263932727706373806169690752412265914498090706210992499846041105663065495088396795219503130322769574537552094090885849447863041666281066857368693132987282184474170294196207444367299044956853338894998290114936481065292819138237034020568284307067497198123596388695496542646337504474325439419690020038417027777486197263681903355230725637997858474374592349464604694893137423892146640912722734331690341425667082532800802801947720683304113543545309542751863861332874717400311370169573590225542921292766373509576480538795400041592670617421571211343689492970422879230527856179183039036815076483955001251747326955930503105\n"
     ]
    }
   ],
   "source": [
    "L = (p-1) * (q-1)\n",
    "\n",
    "e = 2^20 + 1\n",
    "\n",
    "\n",
    "d = 1/mod(e, L)\n",
    "d = Integer(d)\n",
    "\n",
    "print e\n",
    "print d"
   ]
  },
  {
   "cell_type": "code",
   "execution_count": 205,
   "metadata": {},
   "outputs": [
    {
     "name": "stdout",
     "output_type": "stream",
     "text": [
      "dice{Any_sufficiently_advanced_CTF_challenge_is_indistinguishable_from_computational_number_theory} - \u0000\u0000\u0000\u0000\n",
      "num bits = 846\n"
     ]
    }
   ],
   "source": [
    "nbits = 100\n",
    "\n",
    "msg = \"dice{Any_sufficiently_advanced_CTF_challenge_is_indistinguishable_from_computational_number_theory} - \\x00\\x00\\x00\\x00\"\n",
    "print(msg)\n",
    "\n",
    "m = int(msg.encode(\"hex\"), 16)\n",
    "print(\"num bits = {}\".format(int(float(log(m)/log(2)))))\n",
    "\n",
    "int_Blex = int(\"Blex\".encode(\"hex\"), 16)\n",
    "int_Kane = int(\"Kane\".encode(\"hex\"), 16)\n",
    "m1 = m + int_Blex\n",
    "m2 = m + int_Kane\n",
    "\n",
    "delta = int_Kane - int_Blex"
   ]
  },
  {
   "cell_type": "code",
   "execution_count": 206,
   "metadata": {},
   "outputs": [
    {
     "name": "stdout",
     "output_type": "stream",
     "text": [
      "8149372504374548874192951908542986256969534858729011654615299014001055634458671256968805499810004043051538844832924233611985407558444858468475244020065011276554201555659505188665530604023517476891834275929820308580442120934247214961309035829590598711037116911425981128664058815644785966404701924396055883465217500096043561900335648639700284249654218593354042785523966595782532033122744878565331429391737354115721512336294513909982619068076303718625372356957293903052543797841528910579403570932956546560777491856040564595771825744183967369726996732323505205406158255802381827973171318002707057315849668992692321281108\n",
      "\n",
      "7967764383353066195999857462061228986090051049844972290776973805028722010337192510851321660040505898492874451143694723471425433602838822013819016813125880899618426656860054667679488345750709122011328447932121196148369341659262284740694407750861819776011337191610439872673320421242125378255879796917947084223540286248890314948977313502139838819747800975200943153701993004734772584871745507334672765188562867699877411265291871353174277396080898141793962185834903145928906965394148608184618093307374842501602527580483042797902568632938509564394167664687446535576026788508731490797412011783861294688320827081745854429500\n"
     ]
    }
   ],
   "source": [
    "c1 = Integer(mod(m1, N)^e)\n",
    "c2 = Integer(mod(m2, N)^e)\n",
    "\n",
    "print(c1)\n",
    "print(\"\")\n",
    "print(c2)"
   ]
  },
  {
   "cell_type": "code",
   "execution_count": null,
   "metadata": {},
   "outputs": [],
   "source": []
  },
  {
   "cell_type": "markdown",
   "metadata": {},
   "source": [
    "## Past contest problem\n",
    "https://hxp.io/blog/1/RuCTF%20Quals%202014:%20Crypto%20500%20%22decrypt%20message%22%20writeup/"
   ]
  },
  {
   "cell_type": "code",
   "execution_count": 207,
   "metadata": {},
   "outputs": [],
   "source": [
    "_=\"\"\"\n",
    "import binascii\n",
    "c1 = int('61be5676e0f8311dce5d991e841d180c95b9fc15576f2ada0bc619cfb991cddfc51c4dcc5ecd150d7176c835449b5ad085abec38898be02d2749485b68378a8742544ebb8d6dc45b58fb9bac4950426e3383fa31a933718447decc5545a7105dcdd381e82db6acb72f4e335e244242a8e0fbbb940edde3b9e1c329880803931c', 16)\n",
    "c2 = int('9d3c9fad495938176c7c4546e9ec0d4277344ac118dc21ba4205a3451e1a7e36ad3f8c2a566b940275cb630c66d95b1f97614c3b55af8609495fc7b2d732fb58a0efdf0756dc917d5eeefc7ca5b4806158ab87f4f447139d1daf4845e18c8c7120392817314fec0f0c1f248eb31af153107bd9823797153e35cb7044b99f26b0', 16)\n",
    "\n",
    "delta  = int(binascii.hexlify(b'Jane'), 16) - int(binascii.hexlify(b'Alex'), 16)\n",
    "N = 0xa35fe41555b06b23cd769a2aad77cad3a3daa6a76de7591c8b8f281afa5125297fb10541387f8b998d2fd1a76120dd147281ac5208ea52d3ecad1e3e7cab5c0db247ddf87cd8adc3ad13bfb571e26d2e17ffa2429a80b7e9dbdf4054845fd2242ae071fe1a195d28900eda405da3e937ca29dff284e0528c3db510dea9c733bf\n",
    "e = 0x3001\n",
    "\n",
    "print N\n",
    "print e\n",
    "\n",
    "print c1\n",
    "print c2\n",
    "\n",
    "print delta\n",
    "\"\"\""
   ]
  },
  {
   "cell_type": "markdown",
   "metadata": {},
   "source": [
    "## Solve problem"
   ]
  },
  {
   "cell_type": "code",
   "execution_count": 208,
   "metadata": {},
   "outputs": [],
   "source": [
    "R.<x> = PolynomialRing(IntegerModRing(N))"
   ]
  },
  {
   "cell_type": "code",
   "execution_count": 209,
   "metadata": {},
   "outputs": [],
   "source": [
    "p1 = x^e - c1\n",
    "p2 = (x+delta)^e - c2"
   ]
  },
  {
   "cell_type": "code",
   "execution_count": null,
   "metadata": {},
   "outputs": [],
   "source": []
  },
  {
   "cell_type": "code",
   "execution_count": 172,
   "metadata": {},
   "outputs": [
    {
     "name": "stdout",
     "output_type": "stream",
     "text": [
      "CPU times: user 10min 23s, sys: 344 ms, total: 10min 23s\n",
      "Wall time: 10min 27s\n"
     ]
    },
    {
     "data": {
      "text/plain": [
       "736174144772416718605406283529743241792152240206413170679921229631975722268402785667570615223325877057397514147173497175530180808010578247824430532166489844329047787849728049828460750752754014555628844699450822200950142079056299758738948025292593933608312"
      ]
     },
     "execution_count": 172,
     "metadata": {},
     "output_type": "execute_result"
    }
   ],
   "source": [
    "%time franklin_reiter(p1, p2)"
   ]
  },
  {
   "cell_type": "code",
   "execution_count": null,
   "metadata": {},
   "outputs": [],
   "source": [
    "%time m_recovered = franklin_reiter2(p1, p2)\n",
    "print(m_recovered)"
   ]
  },
  {
   "cell_type": "code",
   "execution_count": null,
   "metadata": {},
   "outputs": [],
   "source": [
    "hex(m_recovered).decode('hex')"
   ]
  },
  {
   "cell_type": "code",
   "execution_count": null,
   "metadata": {},
   "outputs": [],
   "source": []
  }
 ],
 "metadata": {
  "kernelspec": {
   "display_name": "sage",
   "language": "python",
   "name": "sage"
  },
  "language_info": {
   "codemirror_mode": {
    "name": "ipython",
    "version": 3
   },
   "file_extension": ".py",
   "mimetype": "text/x-python",
   "name": "python",
   "nbconvert_exporter": "python",
   "pygments_lexer": "ipython3",
   "version": "3.9.1"
  }
 },
 "nbformat": 4,
 "nbformat_minor": 2
}
